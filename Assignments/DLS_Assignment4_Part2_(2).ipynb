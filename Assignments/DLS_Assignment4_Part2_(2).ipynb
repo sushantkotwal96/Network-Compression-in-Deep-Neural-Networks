{
 "cells": [
  {
   "cell_type": "markdown",
   "metadata": {
    "id": "DUulWbAr-AoM"
   },
   "source": [
    "# DLS Assignment - 4\n",
    "\n",
    "### This assignment was discussed with Tejasram Ramesh and Ramki Ramamurthy.\n",
    "\n",
    "### For this assignment I referred the following resources:\n",
    "  #### 1) Deep Learning with Python - by Francois Cholet\n",
    "  #### 2) https://www.youtube.com/watch?v=zHTe9ehehX8\n",
    "  #### 3) https://www.tensorflow.org/api_docs/python/tf/keras/models/clone_model\n",
    "  #### 4) https://www.tensorflow.org/guide/core/matrix_core\n",
    "  #### 5) https://stackabuse.com/what-is-fromlogitstrue-in-keras-tensorflow-loss-functions/\n",
    "  #### 6) https://www.tensorflow.org/api_docs/python/tf/compat/v1/initializers"
   ]
  },
  {
   "cell_type": "code",
   "execution_count": null,
   "metadata": {
    "id": "Ql_DGMhCSNAs"
   },
   "outputs": [],
   "source": [
    "import numpy as np\n",
    "import pandas as pd\n",
    "import matplotlib.pyplot as plt\n",
    "import seaborn as sns\n",
    "import tensorflow as tf\n",
    "import timeit\n",
    "from tensorflow.keras.utils import to_categorical\n",
    "from tensorflow import keras\n",
    "from tensorflow.keras import layers\n",
    "from tensorflow.keras.layers import Flatten\n",
    "from keras.models import Model\n",
    "from sklearn.decomposition import PCA\n",
    "from sklearn.manifold import TSNE"
   ]
  },
  {
   "cell_type": "markdown",
   "metadata": {
    "id": "RWGehYkj-DKb"
   },
   "source": [
    "### Allocating to GPU"
   ]
  },
  {
   "cell_type": "code",
   "execution_count": null,
   "metadata": {
    "colab": {
     "base_uri": "https://localhost:8080/"
    },
    "id": "mrSyXMLiScWX",
    "outputId": "7e822711-9268-487a-e081-33c3bf32ce11"
   },
   "outputs": [
    {
     "name": "stdout",
     "output_type": "stream",
     "text": [
      "Found GPU at: /device:GPU:0\n"
     ]
    }
   ],
   "source": [
    "device_name = tf.test.gpu_device_name()\n",
    "if device_name != '/device:GPU:0':\n",
    "  raise SystemError('GPU device not found')\n",
    "print('Found GPU at: {}'.format(device_name))"
   ]
  },
  {
   "cell_type": "code",
   "execution_count": null,
   "metadata": {
    "colab": {
     "base_uri": "https://localhost:8080/"
    },
    "id": "P1ADXoW5Sedi",
    "outputId": "7eb971f8-e82f-4d9b-ad2f-dde9f4f6be06"
   },
   "outputs": [
    {
     "name": "stdout",
     "output_type": "stream",
     "text": [
      "Time (s) to convolve 32x7x7x3 filter over random 100x100x100x3 images (batch x height x width x channel). Sum of ten runs.\n",
      "CPU (s):\n",
      "3.278823552999995\n",
      "GPU (s):\n",
      "0.041053294000050755\n",
      "GPU speedup over CPU: 79x\n"
     ]
    }
   ],
   "source": [
    "device_name = tf.test.gpu_device_name()\n",
    "if device_name != '/device:GPU:0':\n",
    "  print(\n",
    "      '\\n\\nThis error most likely means that this notebook is not '\n",
    "      'configured to use a GPU.  Change this in Notebook Settings via the '\n",
    "      'command palette (cmd/ctrl-shift-P) or the Edit menu.\\n\\n')\n",
    "  raise SystemError('GPU device not found')\n",
    "\n",
    "def cpu():\n",
    "  with tf.device('/cpu:0'):\n",
    "    random_image_cpu = tf.random.normal((100, 100, 100, 3))\n",
    "    net_cpu = tf.keras.layers.Conv2D(32, 7)(random_image_cpu)\n",
    "    return tf.math.reduce_sum(net_cpu)\n",
    "\n",
    "def gpu():\n",
    "  with tf.device('/device:GPU:0'):\n",
    "    random_image_gpu = tf.random.normal((100, 100, 100, 3))\n",
    "    net_gpu = tf.keras.layers.Conv2D(32, 7)(random_image_gpu)\n",
    "    return tf.math.reduce_sum(net_gpu)\n",
    "  \n",
    "# We run each op once to warm up; see: https://stackoverflow.com/a/45067900\n",
    "cpu()\n",
    "gpu()\n",
    "\n",
    "# Run the op several times.\n",
    "print('Time (s) to convolve 32x7x7x3 filter over random 100x100x100x3 images '\n",
    "      '(batch x height x width x channel). Sum of ten runs.')\n",
    "print('CPU (s):')\n",
    "cpu_time = timeit.timeit('cpu()', number=10, setup=\"from __main__ import cpu\")\n",
    "print(cpu_time)\n",
    "print('GPU (s):')\n",
    "gpu_time = timeit.timeit('gpu()', number=10, setup=\"from __main__ import gpu\")\n",
    "print(gpu_time)\n",
    "print('GPU speedup over CPU: {}x'.format(int(cpu_time/gpu_time)))"
   ]
  },
  {
   "cell_type": "markdown",
   "metadata": {
    "id": "fIRXFRYKSlpo"
   },
   "source": [
    "### Loading the MNIST Dataset"
   ]
  },
  {
   "cell_type": "code",
   "execution_count": null,
   "metadata": {
    "id": "0B_0dZ7sSgvd"
   },
   "outputs": [],
   "source": [
    "mnist = tf.keras.datasets.mnist"
   ]
  },
  {
   "cell_type": "code",
   "execution_count": null,
   "metadata": {
    "colab": {
     "base_uri": "https://localhost:8080/"
    },
    "id": "qsXcO5R3SoZL",
    "outputId": "0d8dc0c3-aaef-4ed1-c10c-457b6532f97d"
   },
   "outputs": [
    {
     "name": "stdout",
     "output_type": "stream",
     "text": [
      "Downloading data from https://storage.googleapis.com/tensorflow/tf-keras-datasets/mnist.npz\n",
      "11490434/11490434 [==============================] - 0s 0us/step\n"
     ]
    }
   ],
   "source": [
    "(train_images, train_labels) , (test_images, test_labels) = mnist.load_data()"
   ]
  },
  {
   "cell_type": "code",
   "execution_count": null,
   "metadata": {
    "colab": {
     "base_uri": "https://localhost:8080/"
    },
    "id": "F9i9LNU0SqYZ",
    "outputId": "c7037126-0cfb-4efb-fd45-a46677b9b36d"
   },
   "outputs": [
    {
     "name": "stdout",
     "output_type": "stream",
     "text": [
      "Training Images Shape:  (60000, 28, 28)\n",
      "Training Labels:  [5 0 4 ... 5 6 8]\n",
      "Testing Images Shape:  (10000, 28, 28)\n",
      "Testing Labels:  [7 2 1 ... 4 5 6]\n"
     ]
    }
   ],
   "source": [
    "#Lets look at the training data\n",
    "print(\"Training Images Shape: \",train_images.shape)\n",
    "print(\"Training Labels: \",train_labels)\n",
    "\n",
    "\n",
    "#Lets look at the testing data\n",
    "print(\"Testing Images Shape: \",test_images.shape)\n",
    "print(\"Testing Labels: \",test_labels)"
   ]
  },
  {
   "cell_type": "markdown",
   "metadata": {
    "id": "Bv69yxF-SwvW"
   },
   "source": [
    "### Normalizing the Images"
   ]
  },
  {
   "cell_type": "code",
   "execution_count": null,
   "metadata": {
    "id": "yUmSRwW8SxOT"
   },
   "outputs": [],
   "source": [
    "train_images = train_images.astype('float32')\n",
    "test_images = test_images.astype('float32')\n",
    "train_images/=255\n",
    "test_images/=255"
   ]
  },
  {
   "cell_type": "markdown",
   "metadata": {
    "id": "gOY65ew4Szs7"
   },
   "source": [
    "### Loading the Model from Part 1"
   ]
  },
  {
   "cell_type": "code",
   "execution_count": null,
   "metadata": {
    "id": "_wPeQmggjIb7"
   },
   "outputs": [],
   "source": []
  },
  {
   "cell_type": "code",
   "execution_count": null,
   "metadata": {
    "colab": {
     "base_uri": "https://localhost:8080/"
    },
    "id": "uLoVjb21S20I",
    "outputId": "1141e7e7-913d-4d39-cd2e-391b3f7753f9"
   },
   "outputs": [
    {
     "name": "stdout",
     "output_type": "stream",
     "text": [
      "Mounted at /content/drive\n"
     ]
    }
   ],
   "source": [
    "from google.colab import drive\n",
    "drive.mount('/content/drive')"
   ]
  },
  {
   "cell_type": "code",
   "execution_count": null,
   "metadata": {
    "id": "nHRZ-00vTOhI"
   },
   "outputs": [],
   "source": [
    "model_path = '/content/drive/MyDrive/DLS_Assignments/Models/assign4_part1_baseline.h5'"
   ]
  },
  {
   "cell_type": "code",
   "execution_count": null,
   "metadata": {
    "id": "XcZmKs6pS51I"
   },
   "outputs": [],
   "source": [
    "baseline = keras.models.load_model(model_path)"
   ]
  },
  {
   "cell_type": "code",
   "execution_count": null,
   "metadata": {
    "colab": {
     "base_uri": "https://localhost:8080/"
    },
    "id": "LYNfTdGSTLuu",
    "outputId": "c94b7223-578b-4833-d05e-fc43f98b10d6"
   },
   "outputs": [
    {
     "name": "stdout",
     "output_type": "stream",
     "text": [
      "313/313 [==============================] - 1s 3ms/step - loss: 0.1257 - sparse_categorical_accuracy: 0.9856\n"
     ]
    }
   ],
   "source": [
    "evaluation = baseline.evaluate(test_images , test_labels)"
   ]
  },
  {
   "cell_type": "markdown",
   "metadata": {
    "id": "wrrd9bphTW1n"
   },
   "source": [
    "### Performing Low Rank Approximation on the above model for D=20"
   ]
  },
  {
   "cell_type": "code",
   "execution_count": null,
   "metadata": {
    "id": "bvh1DOqZg6_G"
   },
   "outputs": [],
   "source": [
    "s_1 , U_1, V_1 = tf.linalg.svd(baseline.get_layer(index=1).get_weights()[0])\n",
    "s_2 , U_2, V_2 = tf.linalg.svd(baseline.get_layer(index=2).get_weights()[0])\n",
    "s_3 , U_3, V_3 = tf.linalg.svd(baseline.get_layer(index=3).get_weights()[0])\n",
    "s_4 , U_4, V_4 = tf.linalg.svd(baseline.get_layer(index=4).get_weights()[0])\n",
    "s_5 , U_5, V_5 = tf.linalg.svd(baseline.get_layer(index=5).get_weights()[0])\n",
    "\n",
    "\n",
    "\n",
    "S_1 = tf.linalg.diag(s_1)\n",
    "S_2 = tf.linalg.diag(s_2)\n",
    "S_3 = tf.linalg.diag(s_3)\n",
    "S_4 = tf.linalg.diag(s_4)\n",
    "S_5 = tf.linalg.diag(s_5)\n",
    "\n",
    "\n",
    "\n",
    "V_1T = tf.transpose(V_1)\n",
    "V_2T = tf.transpose(V_2)\n",
    "V_3T = tf.transpose(V_3)\n",
    "V_4T = tf.transpose(V_4)\n",
    "V_5T = tf.transpose(V_5)\n",
    "\n",
    "\n",
    "r=20\n",
    "U_r1 = U_1[:, :r]\n",
    "U_r2 = U_2[:, :r]\n",
    "U_r3 = U_3[:, :r]\n",
    "U_r4 = U_4[:, :r]\n",
    "U_r5 = U_5[:, :r]\n",
    "\n",
    "\n",
    "V_S1 = tf.matmul(S_1[:r, :r], V_1T[:r, :])\n",
    "V_S2 = tf.matmul(S_2[:r, :r], V_2T[:r, :])\n",
    "V_S3 = tf.matmul(S_3[:r, :r], V_3T[:r, :])\n",
    "V_S4 = tf.matmul(S_4[:r, :r], V_4T[:r, :])\n",
    "V_S5 = tf.matmul(S_5[:r, :r], V_5T[:r, :])"
   ]
  },
  {
   "cell_type": "code",
   "execution_count": null,
   "metadata": {
    "colab": {
     "base_uri": "https://localhost:8080/"
    },
    "id": "U8eeZ9otmxnT",
    "outputId": "822e9d94-0eb4-44ba-f6bd-b9533ffea7c5"
   },
   "outputs": [
    {
     "data": {
      "text/plain": [
       "TensorShape([20, 1024])"
      ]
     },
     "execution_count": 28,
     "metadata": {},
     "output_type": "execute_result"
    }
   ],
   "source": [
    "V_S1.shape"
   ]
  },
  {
   "cell_type": "code",
   "execution_count": null,
   "metadata": {
    "colab": {
     "base_uri": "https://localhost:8080/"
    },
    "id": "me6uUmOJAvuA",
    "outputId": "d66f0b8a-923f-45b2-85b5-84ebbf79939c"
   },
   "outputs": [
    {
     "data": {
      "text/plain": [
       "TensorShape([784, 784])"
      ]
     },
     "execution_count": 16,
     "metadata": {},
     "output_type": "execute_result"
    }
   ],
   "source": [
    "U_1.shape"
   ]
  },
  {
   "cell_type": "code",
   "execution_count": null,
   "metadata": {
    "colab": {
     "base_uri": "https://localhost:8080/"
    },
    "id": "xg8maERgAosx",
    "outputId": "813ffafa-27e9-4ca9-9b14-1f5ea6f4a771"
   },
   "outputs": [
    {
     "data": {
      "text/plain": [
       "TensorShape([784, 784])"
      ]
     },
     "execution_count": 17,
     "metadata": {},
     "output_type": "execute_result"
    }
   ],
   "source": [
    "S_1.shape"
   ]
  },
  {
   "cell_type": "code",
   "execution_count": null,
   "metadata": {
    "colab": {
     "base_uri": "https://localhost:8080/"
    },
    "id": "VqIQgQABArv2",
    "outputId": "aae90800-de72-4a54-80f9-7aa245eb3696"
   },
   "outputs": [
    {
     "data": {
      "text/plain": [
       "TensorShape([784, 1024])"
      ]
     },
     "execution_count": 18,
     "metadata": {},
     "output_type": "execute_result"
    }
   ],
   "source": [
    "V_1T.shape"
   ]
  },
  {
   "cell_type": "markdown",
   "metadata": {
    "id": "vHwetQaY_N2T"
   },
   "source": [
    "### Creating the Model"
   ]
  },
  {
   "cell_type": "code",
   "execution_count": null,
   "metadata": {
    "colab": {
     "base_uri": "https://localhost:8080/"
    },
    "id": "_bJh7lb6jJeX",
    "outputId": "f3fe5949-ae66-4be1-db55-f6f01122868e"
   },
   "outputs": [
    {
     "name": "stdout",
     "output_type": "stream",
     "text": [
      "Model: \"sequential_5\"\n",
      "_________________________________________________________________\n",
      " Layer (type)                Output Shape              Param #   \n",
      "=================================================================\n",
      " flatten_5 (Flatten)         (None, 784)               0         \n",
      "                                                                 \n",
      " U_1_layer (Dense)           (None, 20)                15700     \n",
      "                                                                 \n",
      " VXS_1_layer (Dense)         (None, 1024)              21504     \n",
      "                                                                 \n",
      " U_2_layer (Dense)           (None, 20)                20500     \n",
      "                                                                 \n",
      " VXS_2_layer (Dense)         (None, 1024)              21504     \n",
      "                                                                 \n",
      " U_3_layer (Dense)           (None, 20)                20500     \n",
      "                                                                 \n",
      " VXS_3_layer (Dense)         (None, 1024)              21504     \n",
      "                                                                 \n",
      " U_4_layer (Dense)           (None, 20)                20500     \n",
      "                                                                 \n",
      " VXS_4_layer (Dense)         (None, 1024)              21504     \n",
      "                                                                 \n",
      " U_5_layer (Dense)           (None, 20)                20500     \n",
      "                                                                 \n",
      " VXS_5_layer (Dense)         (None, 1024)              21504     \n",
      "                                                                 \n",
      " output (Dense)              (None, 10)                10250     \n",
      "                                                                 \n",
      "=================================================================\n",
      "Total params: 215,470\n",
      "Trainable params: 215,470\n",
      "Non-trainable params: 0\n",
      "_________________________________________________________________\n",
      "None\n"
     ]
    }
   ],
   "source": [
    "new_model = keras.Sequential([\n",
    "    layers.Flatten(input_shape=(28, 28)),\n",
    "    layers.Dense(20,activation='relu',name='U_1_layer'),\n",
    "    layers.Dense(1024, activation='relu', name='VXS_1_layer'),\n",
    "    layers.Dense(20,activation='relu',name='U_2_layer'),\n",
    "    layers.Dense(1024, activation='relu', name='VXS_2_layer'),\n",
    "    layers.Dense(20,activation='relu',name='U_3_layer'),\n",
    "    layers.Dense(1024, activation='relu', name='VXS_3_layer'),\n",
    "    layers.Dense(20,activation='relu',name='U_4_layer'),\n",
    "    layers.Dense(1024, activation='relu', name='VXS_4_layer'),\n",
    "    layers.Dense(20,activation='relu',name='U_5_layer'),\n",
    "    layers.Dense(1024, activation='relu', name='VXS_5_layer'),\n",
    "    layers.Dense(10, name='output' ,activation='softmax')\n",
    "])\n",
    "print(new_model.summary())"
   ]
  },
  {
   "cell_type": "markdown",
   "metadata": {
    "id": "YW4LYRPn_RNc"
   },
   "source": [
    "### Assigning U, V and Biases to the Model"
   ]
  },
  {
   "cell_type": "code",
   "execution_count": null,
   "metadata": {
    "id": "edS45B94ksfk"
   },
   "outputs": [],
   "source": [
    "bias1 = new_model.get_layer(index=1).get_weights()[1]\n",
    "bias2 = new_model.get_layer(index=2).get_weights()[1]\n",
    "bias3 = new_model.get_layer(index=3).get_weights()[1]\n",
    "bias4 = new_model.get_layer(index=4).get_weights()[1]\n",
    "bias5 = new_model.get_layer(index=5).get_weights()[1]\n",
    "bias6 = new_model.get_layer(index=6).get_weights()[1]\n",
    "bias7 = new_model.get_layer(index=7).get_weights()[1]\n",
    "bias8 = new_model.get_layer(index=8).get_weights()[1]\n",
    "bias9 = new_model.get_layer(index=9).get_weights()[1]\n",
    "bias10 = new_model.get_layer(index=10).get_weights()[1]"
   ]
  },
  {
   "cell_type": "code",
   "execution_count": null,
   "metadata": {
    "id": "np8FkaqNkM8t"
   },
   "outputs": [],
   "source": [
    "new_model.get_layer(index=1).set_weights([U_r1,bias1])\n",
    "new_model.get_layer(index=2).set_weights([V_S1,bias2])\n",
    "new_model.get_layer(index=3).set_weights([U_r2,bias3])\n",
    "new_model.get_layer(index=4).set_weights([V_S2,bias4])\n",
    "new_model.get_layer(index=5).set_weights([U_r3,bias5])\n",
    "new_model.get_layer(index=6).set_weights([V_S3,bias6])\n",
    "new_model.get_layer(index=7).set_weights([U_r4,bias7])\n",
    "new_model.get_layer(index=8).set_weights([V_S4,bias8])\n",
    "new_model.get_layer(index=9).set_weights([U_r5,bias9])\n",
    "new_model.get_layer(index=10).set_weights([V_S5,bias10])"
   ]
  },
  {
   "cell_type": "code",
   "execution_count": null,
   "metadata": {
    "id": "O7zRFvo9zYBw"
   },
   "outputs": [],
   "source": [
    "# new_weight1= new_model.get_layer(index=1).get_weights()[0]\n",
    "# new_weight2= new_model.get_layer(index=2).get_weights()[0]\n",
    "# new_weight3= new_model.get_layer(index=3).get_weights()[0]\n",
    "# new_weight4= new_model.get_layer(index=4).get_weights()[0]\n",
    "# new_weight5= new_model.get_layer(index=5).get_weights()[0]"
   ]
  },
  {
   "cell_type": "code",
   "execution_count": null,
   "metadata": {
    "id": "U1D2hJ9izlPb"
   },
   "outputs": [],
   "source": [
    "# new_bias1= new_model.get_layer(index=1).get_weights()[1]\n",
    "# new_bias2= new_model.get_layer(index=2).get_weights()[1]\n",
    "# new_bias3= new_model.get_layer(index=3).get_weights()[1]\n",
    "# new_bias4= new_model.get_layer(index=4).get_weights()[1]\n",
    "# new_bias5= new_model.get_layer(index=5).get_weights()[1]"
   ]
  },
  {
   "cell_type": "code",
   "execution_count": null,
   "metadata": {
    "id": "vX09W-HIkX48"
   },
   "outputs": [],
   "source": [
    "new_model.compile(\n",
    "    optimizer=tf.keras.optimizers.Adam(learning_rate=0.0005),\n",
    "    loss=tf.keras.losses.SparseCategoricalCrossentropy(from_logits=False),\n",
    "    metrics=['acc'],\n",
    ")"
   ]
  },
  {
   "cell_type": "markdown",
   "metadata": {
    "id": "nbYgcWhM_aDR"
   },
   "source": [
    "### Training the Model"
   ]
  },
  {
   "cell_type": "code",
   "execution_count": null,
   "metadata": {
    "colab": {
     "base_uri": "https://localhost:8080/"
    },
    "id": "JQ1VMh55kclG",
    "outputId": "40352ffa-c5ee-4e9c-c32a-34f684ef02f0"
   },
   "outputs": [
    {
     "name": "stdout",
     "output_type": "stream",
     "text": [
      "Epoch 1/30\n",
      "235/235 [==============================] - 2s 4ms/step - loss: 0.8581 - acc: 0.7406\n",
      "Epoch 2/30\n",
      "235/235 [==============================] - 1s 4ms/step - loss: 0.2308 - acc: 0.9348\n",
      "Epoch 3/30\n",
      "235/235 [==============================] - 1s 4ms/step - loss: 0.1553 - acc: 0.9556\n",
      "Epoch 4/30\n",
      "235/235 [==============================] - 1s 5ms/step - loss: 0.1246 - acc: 0.9636\n",
      "Epoch 5/30\n",
      "235/235 [==============================] - 1s 6ms/step - loss: 0.1020 - acc: 0.9699\n",
      "Epoch 6/30\n",
      "235/235 [==============================] - 1s 6ms/step - loss: 0.0874 - acc: 0.9741\n",
      "Epoch 7/30\n",
      "235/235 [==============================] - 1s 5ms/step - loss: 0.0793 - acc: 0.9762\n",
      "Epoch 8/30\n",
      "235/235 [==============================] - 1s 4ms/step - loss: 0.0692 - acc: 0.9789\n",
      "Epoch 9/30\n",
      "235/235 [==============================] - 1s 4ms/step - loss: 0.0618 - acc: 0.9810\n",
      "Epoch 10/30\n",
      "235/235 [==============================] - 1s 4ms/step - loss: 0.0579 - acc: 0.9826\n",
      "Epoch 11/30\n",
      "235/235 [==============================] - 1s 4ms/step - loss: 0.0561 - acc: 0.9833\n",
      "Epoch 12/30\n",
      "235/235 [==============================] - 1s 4ms/step - loss: 0.0504 - acc: 0.9846\n",
      "Epoch 13/30\n",
      "235/235 [==============================] - 1s 4ms/step - loss: 0.0439 - acc: 0.9868\n",
      "Epoch 14/30\n",
      "235/235 [==============================] - 1s 4ms/step - loss: 0.0427 - acc: 0.9870\n",
      "Epoch 15/30\n",
      "235/235 [==============================] - 1s 4ms/step - loss: 0.0419 - acc: 0.9874\n",
      "Epoch 16/30\n",
      "235/235 [==============================] - 1s 4ms/step - loss: 0.0367 - acc: 0.9888\n",
      "Epoch 17/30\n",
      "235/235 [==============================] - 1s 4ms/step - loss: 0.0388 - acc: 0.9884\n",
      "Epoch 18/30\n",
      "235/235 [==============================] - 1s 4ms/step - loss: 0.0339 - acc: 0.9901\n",
      "Epoch 19/30\n",
      "235/235 [==============================] - 1s 4ms/step - loss: 0.0332 - acc: 0.9896\n",
      "Epoch 20/30\n",
      "235/235 [==============================] - 1s 4ms/step - loss: 0.0298 - acc: 0.9906\n",
      "Epoch 21/30\n",
      "235/235 [==============================] - 1s 4ms/step - loss: 0.0307 - acc: 0.9910\n",
      "Epoch 22/30\n",
      "235/235 [==============================] - 1s 4ms/step - loss: 0.0280 - acc: 0.9917\n",
      "Epoch 23/30\n",
      "235/235 [==============================] - 1s 4ms/step - loss: 0.0302 - acc: 0.9908\n",
      "Epoch 24/30\n",
      "235/235 [==============================] - 1s 6ms/step - loss: 0.0284 - acc: 0.9912\n",
      "Epoch 25/30\n",
      "235/235 [==============================] - 1s 6ms/step - loss: 0.0262 - acc: 0.9921\n",
      "Epoch 26/30\n",
      "235/235 [==============================] - 1s 6ms/step - loss: 0.0248 - acc: 0.9922\n",
      "Epoch 27/30\n",
      "235/235 [==============================] - 1s 4ms/step - loss: 0.0225 - acc: 0.9928\n",
      "Epoch 28/30\n",
      "235/235 [==============================] - 1s 4ms/step - loss: 0.0199 - acc: 0.9937\n",
      "Epoch 29/30\n",
      "235/235 [==============================] - 1s 4ms/step - loss: 0.0236 - acc: 0.9930\n",
      "Epoch 30/30\n",
      "235/235 [==============================] - 1s 4ms/step - loss: 0.0212 - acc: 0.9935\n"
     ]
    }
   ],
   "source": [
    "history_new = new_model.fit(train_images , train_labels ,epochs = 30, batch_size = 256)"
   ]
  },
  {
   "cell_type": "code",
   "execution_count": null,
   "metadata": {
    "colab": {
     "base_uri": "https://localhost:8080/"
    },
    "id": "EKO1uWk_nKS4",
    "outputId": "63b3a9b8-baed-410d-c75f-d7b4bc6ff064"
   },
   "outputs": [
    {
     "name": "stdout",
     "output_type": "stream",
     "text": [
      "The average training accuracy is : 0.9751949985822042\n"
     ]
    }
   ],
   "source": [
    "print(\"The average training accuracy is :\",np.mean(history_new.history['acc']))"
   ]
  },
  {
   "cell_type": "markdown",
   "metadata": {
    "id": "5z8x6V_Z_e0M"
   },
   "source": [
    "### Evaluating the Model"
   ]
  },
  {
   "cell_type": "code",
   "execution_count": null,
   "metadata": {
    "colab": {
     "base_uri": "https://localhost:8080/"
    },
    "id": "ZaWJyGw2kyri",
    "outputId": "191ab3db-e631-4d71-984f-2839fbc90559"
   },
   "outputs": [
    {
     "name": "stdout",
     "output_type": "stream",
     "text": [
      "313/313 [==============================] - 1s 3ms/step - loss: 0.1558 - acc: 0.9731\n"
     ]
    }
   ],
   "source": [
    "evaluation = new_model.evaluate(test_images , test_labels)"
   ]
  },
  {
   "cell_type": "code",
   "execution_count": null,
   "metadata": {
    "colab": {
     "base_uri": "https://localhost:8080/"
    },
    "id": "sMoAznwAqy6b",
    "outputId": "7a6ea3e1-fdce-4e37-97da-489d82a0acdc"
   },
   "outputs": [
    {
     "name": "stdout",
     "output_type": "stream",
     "text": [
      "The test accuracy is : 0.9731000065803528\n"
     ]
    }
   ],
   "source": [
    "print(\"The test accuracy is :\",evaluation[1])"
   ]
  },
  {
   "cell_type": "markdown",
   "metadata": {
    "id": "xrDe4EvTr1LF"
   },
   "source": [
    "### Plotting the Loss and Accuracy of the model"
   ]
  },
  {
   "cell_type": "code",
   "execution_count": null,
   "metadata": {
    "colab": {
     "base_uri": "https://localhost:8080/",
     "height": 313
    },
    "id": "QhiKUoPBU8q8",
    "outputId": "6f876f18-b31f-4880-96ee-07ccdf85c72a"
   },
   "outputs": [
    {
     "data": {
      "text/plain": [
       "Text(0.5, 1.0, 'Model Accuracy')"
      ]
     },
     "execution_count": 37,
     "metadata": {},
     "output_type": "execute_result"
    },
    {
     "data": {
      "image/png": "[encoded data removed]",
      "text/plain": [
       "<Figure size 432x288 with 1 Axes>"
      ]
     },
     "metadata": {
      "needs_background": "light"
     },
     "output_type": "display_data"
    }
   ],
   "source": [
    "plt.plot(history_new.history['acc'], color = 'red')\n",
    "plt.ylabel(\"Accuracy\")\n",
    "plt.xlabel(\"No. of Epochs\")\n",
    "plt.title(\"Model Accuracy\")"
   ]
  },
  {
   "cell_type": "code",
   "execution_count": null,
   "metadata": {
    "colab": {
     "base_uri": "https://localhost:8080/",
     "height": 313
    },
    "id": "3_RsQtEssPFi",
    "outputId": "d82a8ae0-5e6b-49df-874e-f3be78bae1f1"
   },
   "outputs": [
    {
     "data": {
      "text/plain": [
       "Text(0.5, 1.0, 'Model Loss')"
      ]
     },
     "execution_count": 38,
     "metadata": {},
     "output_type": "execute_result"
    },
    {
     "data": {
      "image/png": "[encoded data removed]",
      "text/plain": [
       "<Figure size 432x288 with 1 Axes>"
      ]
     },
     "metadata": {
      "needs_background": "light"
     },
     "output_type": "display_data"
    }
   ],
   "source": [
    "plt.plot(history_new.history['loss'], color='blue',linewidth=4.0,alpha=0.3)\n",
    "plt.ylabel(\"Loss\")\n",
    "plt.xlabel(\"No. of Epochs\")\n",
    "plt.title(\"Model Loss\")"
   ]
  },
  {
   "cell_type": "code",
   "execution_count": null,
   "metadata": {
    "id": "ksIMzt8csUNy"
   },
   "outputs": [],
   "source": []
  }
 ],
 "metadata": {
  "accelerator": "GPU",
  "colab": {
   "provenance": []
  },
  "gpuClass": "standard",
  "kernelspec": {
   "display_name": "Python 3 (ipykernel)",
   "language": "python",
   "name": "python3"
  },
  "language_info": {
   "codemirror_mode": {
    "name": "ipython",
    "version": 3
   },
   "file_extension": ".py",
   "mimetype": "text/x-python",
   "name": "python",
   "nbconvert_exporter": "python",
   "pygments_lexer": "ipython3",
   "version": "3.9.12"
  }
 },
 "nbformat": 4,
 "nbformat_minor": 1
}
