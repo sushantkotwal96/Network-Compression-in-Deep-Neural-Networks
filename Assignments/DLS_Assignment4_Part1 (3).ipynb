{
 "cells": [
  {
   "cell_type": "markdown",
   "metadata": {
    "id": "yJa36ny99OUE"
   },
   "source": [
    "# DLS Assignment - 4\n",
    "\n",
    "### This assignment was discussed with Tejasram Ramesh and Ramki Ramamurthy.\n",
    "\n",
    "### For this assignment I referred the following resources:\n",
    "  #### 1) Deep Learning with Python - by Francois Cholet\n",
    "  #### 2) https://www.youtube.com/watch?v=zHTe9ehehX8\n",
    "  #### 3) https://www.tensorflow.org/api_docs/python/tf/keras/models/clone_model\n",
    "  #### 4) https://www.tensorflow.org/guide/core/matrix_core\n",
    "  #### 5) https://stackabuse.com/what-is-fromlogitstrue-in-keras-tensorflow-loss-functions/\n",
    "  #### 6) https://www.tensorflow.org/api_docs/python/tf/compat/v1/initializers"
   ]
  },
  {
   "cell_type": "code",
   "execution_count": null,
   "metadata": {
    "id": "BUXU75MIGK9p"
   },
   "outputs": [],
   "source": [
    "import numpy as np\n",
    "import pandas as pd\n",
    "import matplotlib.pyplot as plt\n",
    "import seaborn as sns\n",
    "import tensorflow as tf\n",
    "import timeit\n",
    "from tensorflow.keras.utils import to_categorical\n",
    "from tensorflow import keras\n",
    "from tensorflow.keras import layers\n",
    "from tensorflow.keras.layers import Flatten\n",
    "from keras.models import Model\n",
    "from sklearn.decomposition import PCA\n",
    "from sklearn.manifold import TSNE"
   ]
  },
  {
   "cell_type": "markdown",
   "metadata": {
    "id": "GhWpSE07Hzjb"
   },
   "source": [
    "### Allocating and Checking the GPU"
   ]
  },
  {
   "cell_type": "code",
   "execution_count": null,
   "metadata": {
    "colab": {
     "base_uri": "https://localhost:8080/"
    },
    "id": "fFHLm5r3Gc3F",
    "outputId": "bfbdb8c1-c01c-4089-f9f4-cfc656e6fa01"
   },
   "outputs": [
    {
     "name": "stdout",
     "output_type": "stream",
     "text": [
      "Found GPU at: /device:GPU:0\n"
     ]
    }
   ],
   "source": [
    "device_name = tf.test.gpu_device_name()\n",
    "if device_name != '/device:GPU:0':\n",
    "  raise SystemError('GPU device not found')\n",
    "print('Found GPU at: {}'.format(device_name))"
   ]
  },
  {
   "cell_type": "code",
   "execution_count": null,
   "metadata": {
    "colab": {
     "base_uri": "https://localhost:8080/"
    },
    "id": "7AJLylEvGfko",
    "outputId": "725c49ba-a968-41c9-d7e3-f656b9a9c1de"
   },
   "outputs": [
    {
     "name": "stdout",
     "output_type": "stream",
     "text": [
      "Time (s) to convolve 32x7x7x3 filter over random 100x100x100x3 images (batch x height x width x channel). Sum of ten runs.\n",
      "CPU (s):\n",
      "2.9996129950000068\n",
      "GPU (s):\n",
      "0.04285065199999849\n",
      "GPU speedup over CPU: 70x\n"
     ]
    }
   ],
   "source": [
    "device_name = tf.test.gpu_device_name()\n",
    "if device_name != '/device:GPU:0':\n",
    "  print(\n",
    "      '\\n\\nThis error most likely means that this notebook is not '\n",
    "      'configured to use a GPU.  Change this in Notebook Settings via the '\n",
    "      'command palette (cmd/ctrl-shift-P) or the Edit menu.\\n\\n')\n",
    "  raise SystemError('GPU device not found')\n",
    "\n",
    "def cpu():\n",
    "  with tf.device('/cpu:0'):\n",
    "    random_image_cpu = tf.random.normal((100, 100, 100, 3))\n",
    "    net_cpu = tf.keras.layers.Conv2D(32, 7)(random_image_cpu)\n",
    "    return tf.math.reduce_sum(net_cpu)\n",
    "\n",
    "def gpu():\n",
    "  with tf.device('/device:GPU:0'):\n",
    "    random_image_gpu = tf.random.normal((100, 100, 100, 3))\n",
    "    net_gpu = tf.keras.layers.Conv2D(32, 7)(random_image_gpu)\n",
    "    return tf.math.reduce_sum(net_gpu)\n",
    "  \n",
    "# We run each op once to warm up; see: https://stackoverflow.com/a/45067900\n",
    "cpu()\n",
    "gpu()\n",
    "\n",
    "# Run the op several times.\n",
    "print('Time (s) to convolve 32x7x7x3 filter over random 100x100x100x3 images '\n",
    "      '(batch x height x width x channel). Sum of ten runs.')\n",
    "print('CPU (s):')\n",
    "cpu_time = timeit.timeit('cpu()', number=10, setup=\"from __main__ import cpu\")\n",
    "print(cpu_time)\n",
    "print('GPU (s):')\n",
    "gpu_time = timeit.timeit('gpu()', number=10, setup=\"from __main__ import gpu\")\n",
    "print(gpu_time)\n",
    "print('GPU speedup over CPU: {}x'.format(int(cpu_time/gpu_time)))"
   ]
  },
  {
   "cell_type": "markdown",
   "metadata": {
    "id": "PuzLBkzoHhVF"
   },
   "source": [
    "### Loading the MNIST Dataset"
   ]
  },
  {
   "cell_type": "code",
   "execution_count": null,
   "metadata": {
    "id": "UldLrmesGuRS"
   },
   "outputs": [],
   "source": [
    "mnist = tf.keras.datasets.mnist"
   ]
  },
  {
   "cell_type": "code",
   "execution_count": null,
   "metadata": {
    "colab": {
     "base_uri": "https://localhost:8080/"
    },
    "id": "T2-wVimQGx2p",
    "outputId": "eb90232b-7160-49e0-c25b-f53480a941c8"
   },
   "outputs": [
    {
     "name": "stdout",
     "output_type": "stream",
     "text": [
      "Downloading data from https://storage.googleapis.com/tensorflow/tf-keras-datasets/mnist.npz\n",
      "11490434/11490434 [==============================] - 1s 0us/step\n"
     ]
    }
   ],
   "source": [
    "(train_images, train_labels) , (test_images, test_labels) = mnist.load_data()"
   ]
  },
  {
   "cell_type": "code",
   "execution_count": null,
   "metadata": {
    "colab": {
     "base_uri": "https://localhost:8080/"
    },
    "id": "swgsIHK7G0Xc",
    "outputId": "4aada450-9e23-4c11-ed3d-12a79835d550"
   },
   "outputs": [
    {
     "name": "stdout",
     "output_type": "stream",
     "text": [
      "Training Images Shape:  (60000, 28, 28)\n",
      "Training Labels:  [5 0 4 ... 5 6 8]\n",
      "Testing Images Shape:  (10000, 28, 28)\n",
      "Testing Labels:  [7 2 1 ... 4 5 6]\n"
     ]
    }
   ],
   "source": [
    "#Lets look at the training data\n",
    "print(\"Training Images Shape: \",train_images.shape)\n",
    "print(\"Training Labels: \",train_labels)\n",
    "\n",
    "\n",
    "#Lets look at the testing data\n",
    "print(\"Testing Images Shape: \",test_images.shape)\n",
    "print(\"Testing Labels: \",test_labels)"
   ]
  },
  {
   "cell_type": "markdown",
   "metadata": {
    "id": "Mbfouc7kazyD"
   },
   "source": [
    "### Normalizing the Images"
   ]
  },
  {
   "cell_type": "code",
   "execution_count": null,
   "metadata": {
    "id": "hyZVysYbaIYS"
   },
   "outputs": [],
   "source": [
    "train_images = train_images.astype('float32')\n",
    "test_images = test_images.astype('float32')\n",
    "train_images/=255\n",
    "test_images/=255"
   ]
  },
  {
   "cell_type": "markdown",
   "metadata": {
    "id": "3fgM5Y6KHlez"
   },
   "source": [
    "### Creating the Baseline Model"
   ]
  },
  {
   "cell_type": "code",
   "execution_count": null,
   "metadata": {
    "colab": {
     "base_uri": "https://localhost:8080/"
    },
    "id": "efR2rbkqG2l4",
    "outputId": "ec9cdf56-20bf-4bbd-ebfc-5adf539312ac"
   },
   "outputs": [
    {
     "name": "stdout",
     "output_type": "stream",
     "text": [
      "Model: \"sequential\"\n",
      "_________________________________________________________________\n",
      " Layer (type)                Output Shape              Param #   \n",
      "=================================================================\n",
      " flatten (Flatten)           (None, 784)               0         \n",
      "                                                                 \n",
      " first_layer (Dense)         (None, 1024)              803840    \n",
      "                                                                 \n",
      " second_layer (Dense)        (None, 1024)              1049600   \n",
      "                                                                 \n",
      " third_layer (Dense)         (None, 1024)              1049600   \n",
      "                                                                 \n",
      " fourth_layer (Dense)        (None, 1024)              1049600   \n",
      "                                                                 \n",
      " fifth_layser (Dense)        (None, 1024)              1049600   \n",
      "                                                                 \n",
      " output (Dense)              (None, 10)                10250     \n",
      "                                                                 \n",
      "=================================================================\n",
      "Total params: 5,012,490\n",
      "Trainable params: 5,012,490\n",
      "Non-trainable params: 0\n",
      "_________________________________________________________________\n",
      "None\n"
     ]
    }
   ],
   "source": [
    "baseline = keras.Sequential([\n",
    "    layers.Flatten(input_shape=(28, 28)),\n",
    "    layers.Dense(1024, activation='relu', name='first_layer',kernel_initializer=keras.initializers.GlorotNormal()),\n",
    "    layers.Dense(1024, activation='relu', name='second_layer',kernel_initializer=keras.initializers.GlorotNormal()),\n",
    "    layers.Dense(1024, activation='relu', name='third_layer',kernel_initializer=keras.initializers.GlorotNormal()),\n",
    "    layers.Dense(1024, activation='relu', name='fourth_layer',kernel_initializer=keras.initializers.GlorotNormal()),\n",
    "    layers.Dense(1024, activation='relu', name=\"fifth_layser\",kernel_initializer=keras.initializers.GlorotNormal()),\n",
    "    layers.Dense(10, name='output' ,activation='softmax',kernel_initializer=keras.initializers.GlorotNormal())\n",
    "])\n",
    "print(baseline.summary())"
   ]
  },
  {
   "cell_type": "code",
   "execution_count": null,
   "metadata": {
    "id": "lne2vbXKG8r2"
   },
   "outputs": [],
   "source": [
    "baseline.compile(\n",
    "    optimizer=tf.keras.optimizers.Adam(),\n",
    "    loss=tf.keras.losses.SparseCategoricalCrossentropy(from_logits=False),\n",
    "    metrics=[tf.keras.metrics.SparseCategoricalAccuracy()],\n",
    ")"
   ]
  },
  {
   "cell_type": "markdown",
   "metadata": {
    "id": "wrdAFZNL9DfG"
   },
   "source": [
    "### Training the Baseline"
   ]
  },
  {
   "cell_type": "code",
   "execution_count": null,
   "metadata": {
    "colab": {
     "base_uri": "https://localhost:8080/"
    },
    "id": "QyM_ULAlHAtn",
    "outputId": "47e02756-4816-453a-9600-c60d9406a510"
   },
   "outputs": [
    {
     "name": "stdout",
     "output_type": "stream",
     "text": [
      "Epoch 1/30\n",
      "235/235 [==============================] - 2s 6ms/step - loss: 0.0116 - sparse_categorical_accuracy: 0.9973\n",
      "Epoch 2/30\n",
      "235/235 [==============================] - 1s 5ms/step - loss: 0.0101 - sparse_categorical_accuracy: 0.9977\n",
      "Epoch 3/30\n",
      "235/235 [==============================] - 1s 5ms/step - loss: 0.0110 - sparse_categorical_accuracy: 0.9974\n",
      "Epoch 4/30\n",
      "235/235 [==============================] - 1s 5ms/step - loss: 0.0110 - sparse_categorical_accuracy: 0.9976\n",
      "Epoch 5/30\n",
      "235/235 [==============================] - 1s 5ms/step - loss: 0.0122 - sparse_categorical_accuracy: 0.9976\n",
      "Epoch 6/30\n",
      "235/235 [==============================] - 1s 5ms/step - loss: 0.0114 - sparse_categorical_accuracy: 0.9977\n",
      "Epoch 7/30\n",
      "235/235 [==============================] - 1s 5ms/step - loss: 0.0079 - sparse_categorical_accuracy: 0.9982\n",
      "Epoch 8/30\n",
      "235/235 [==============================] - 1s 5ms/step - loss: 0.0049 - sparse_categorical_accuracy: 0.9990\n",
      "Epoch 9/30\n",
      "235/235 [==============================] - 1s 5ms/step - loss: 0.0072 - sparse_categorical_accuracy: 0.9984\n",
      "Epoch 10/30\n",
      "235/235 [==============================] - 1s 5ms/step - loss: 0.0055 - sparse_categorical_accuracy: 0.9988\n",
      "Epoch 11/30\n",
      "235/235 [==============================] - 1s 5ms/step - loss: 0.0089 - sparse_categorical_accuracy: 0.9980\n",
      "Epoch 12/30\n",
      "235/235 [==============================] - 1s 5ms/step - loss: 0.0092 - sparse_categorical_accuracy: 0.9984\n",
      "Epoch 13/30\n",
      "235/235 [==============================] - 1s 5ms/step - loss: 0.0115 - sparse_categorical_accuracy: 0.9974\n",
      "Epoch 14/30\n",
      "235/235 [==============================] - 1s 5ms/step - loss: 0.0075 - sparse_categorical_accuracy: 0.9983\n",
      "Epoch 15/30\n",
      "235/235 [==============================] - 1s 6ms/step - loss: 0.0036 - sparse_categorical_accuracy: 0.9993\n",
      "Epoch 16/30\n",
      "235/235 [==============================] - 1s 6ms/step - loss: 0.0099 - sparse_categorical_accuracy: 0.9979\n",
      "Epoch 17/30\n",
      "235/235 [==============================] - 1s 5ms/step - loss: 0.0032 - sparse_categorical_accuracy: 0.9991\n",
      "Epoch 18/30\n",
      "235/235 [==============================] - 1s 5ms/step - loss: 0.0031 - sparse_categorical_accuracy: 0.9994\n",
      "Epoch 19/30\n",
      "235/235 [==============================] - 1s 5ms/step - loss: 0.0096 - sparse_categorical_accuracy: 0.9982\n",
      "Epoch 20/30\n",
      "235/235 [==============================] - 1s 5ms/step - loss: 0.0068 - sparse_categorical_accuracy: 0.9984\n",
      "Epoch 21/30\n",
      "235/235 [==============================] - 1s 5ms/step - loss: 0.0061 - sparse_categorical_accuracy: 0.9988\n",
      "Epoch 22/30\n",
      "235/235 [==============================] - 1s 5ms/step - loss: 0.0048 - sparse_categorical_accuracy: 0.9987\n",
      "Epoch 23/30\n",
      "235/235 [==============================] - 1s 5ms/step - loss: 0.0080 - sparse_categorical_accuracy: 0.9983\n",
      "Epoch 24/30\n",
      "235/235 [==============================] - 1s 5ms/step - loss: 0.0070 - sparse_categorical_accuracy: 0.9988\n",
      "Epoch 25/30\n",
      "235/235 [==============================] - 1s 5ms/step - loss: 0.0044 - sparse_categorical_accuracy: 0.9990\n",
      "Epoch 26/30\n",
      "235/235 [==============================] - 1s 5ms/step - loss: 0.0035 - sparse_categorical_accuracy: 0.9992\n",
      "Epoch 27/30\n",
      "235/235 [==============================] - 1s 5ms/step - loss: 0.0094 - sparse_categorical_accuracy: 0.9983\n",
      "Epoch 28/30\n",
      "235/235 [==============================] - 1s 5ms/step - loss: 0.0065 - sparse_categorical_accuracy: 0.9989\n",
      "Epoch 29/30\n",
      "235/235 [==============================] - 1s 5ms/step - loss: 0.0079 - sparse_categorical_accuracy: 0.9982\n",
      "Epoch 30/30\n",
      "235/235 [==============================] - 1s 5ms/step - loss: 0.0075 - sparse_categorical_accuracy: 0.9982\n"
     ]
    }
   ],
   "source": [
    "history_baseline = baseline.fit(train_images , train_labels ,epochs = 30, batch_size = 256)"
   ]
  },
  {
   "cell_type": "code",
   "execution_count": null,
   "metadata": {
    "colab": {
     "base_uri": "https://localhost:8080/"
    },
    "id": "X07wMxppWBXh",
    "outputId": "8b9e47b4-c1e9-498f-caa1-f531b1dce45b"
   },
   "outputs": [
    {
     "name": "stdout",
     "output_type": "stream",
     "text": [
      "313/313 [==============================] - 1s 3ms/step - loss: 0.1257 - sparse_categorical_accuracy: 0.9856\n"
     ]
    }
   ],
   "source": [
    "evaluation = baseline.evaluate(test_images , test_labels)"
   ]
  },
  {
   "cell_type": "markdown",
   "metadata": {
    "id": "-BogEabQRsA8"
   },
   "source": [
    "### Saving the Baseline Model"
   ]
  },
  {
   "cell_type": "code",
   "execution_count": null,
   "metadata": {
    "colab": {
     "base_uri": "https://localhost:8080/"
    },
    "id": "MXE69lNoQUUj",
    "outputId": "12c56af6-1d7a-499e-c3f0-80b47bf5137d"
   },
   "outputs": [
    {
     "name": "stdout",
     "output_type": "stream",
     "text": [
      "Mounted at /content/drive\n"
     ]
    }
   ],
   "source": [
    "from google.colab import drive\n",
    "drive.mount('/content/drive')"
   ]
  },
  {
   "cell_type": "code",
   "execution_count": null,
   "metadata": {
    "id": "7ZisusrQRtZj"
   },
   "outputs": [],
   "source": [
    "model_path = '/content/drive/MyDrive/DLS_Assignments/Models/assign4_part1_baseline.h5'"
   ]
  },
  {
   "cell_type": "code",
   "execution_count": null,
   "metadata": {
    "id": "HPPay2CPRvC1"
   },
   "outputs": [],
   "source": [
    "#model_path = '/content/drive/MyDrive/DLS_Assignments/Models/assign4_part1_baseline.h5'\n",
    "baseline.save(model_path)"
   ]
  },
  {
   "cell_type": "markdown",
   "metadata": {
    "id": "2aj4HgwWRLsv"
   },
   "source": [
    "### Loading the saved model"
   ]
  },
  {
   "cell_type": "code",
   "execution_count": null,
   "metadata": {
    "id": "algx72uyROpT"
   },
   "outputs": [],
   "source": [
    "baseline = keras.models.load_model(model_path)"
   ]
  },
  {
   "cell_type": "markdown",
   "metadata": {
    "id": "MMsrngPqQpQX"
   },
   "source": [
    "### Applying SVD on weight matrices of every layer"
   ]
  },
  {
   "cell_type": "code",
   "execution_count": null,
   "metadata": {
    "id": "1upYJSYvDWz5"
   },
   "outputs": [],
   "source": [
    "accuracies=[]"
   ]
  },
  {
   "cell_type": "code",
   "execution_count": null,
   "metadata": {
    "id": "LVb626dTVw0_"
   },
   "outputs": [],
   "source": [
    "s_1 , U_1, V_1 = tf.linalg.svd(baseline.get_layer(index=1).get_weights()[0])\n",
    "s_2 , U_2, V_2 = tf.linalg.svd(baseline.get_layer(index=2).get_weights()[0])\n",
    "s_3 , U_3, V_3 = tf.linalg.svd(baseline.get_layer(index=3).get_weights()[0])\n",
    "s_4 , U_4, V_4 = tf.linalg.svd(baseline.get_layer(index=4).get_weights()[0])\n",
    "s_5 , U_5, V_5 = tf.linalg.svd(baseline.get_layer(index=5).get_weights()[0])\n",
    "\n",
    "\n",
    "\n",
    "S_1 = tf.linalg.diag(s_1)\n",
    "S_2 = tf.linalg.diag(s_2)\n",
    "S_3 = tf.linalg.diag(s_3)\n",
    "S_4 = tf.linalg.diag(s_4)\n",
    "S_5 = tf.linalg.diag(s_5)\n",
    "\n",
    "\n",
    "\n",
    "V_1T = tf.transpose(V_1)\n",
    "V_2T = tf.transpose(V_2)\n",
    "V_3T = tf.transpose(V_3)\n",
    "V_4T = tf.transpose(V_4)\n",
    "V_5T = tf.transpose(V_5)\n",
    "\n",
    "\n",
    "bias1 = baseline.get_layer(index=1).get_weights()[1]\n",
    "bias2 = baseline.get_layer(index=2).get_weights()[1]\n",
    "bias3 = baseline.get_layer(index=3).get_weights()[1]\n",
    "bias4 = baseline.get_layer(index=4).get_weights()[1]\n",
    "bias5 = baseline.get_layer(index=5).get_weights()[1]"
   ]
  },
  {
   "cell_type": "markdown",
   "metadata": {
    "id": "wE6uOchKElRv"
   },
   "source": [
    "#### For D=10"
   ]
  },
  {
   "cell_type": "code",
   "execution_count": null,
   "metadata": {
    "id": "NX4uPCXlY0mW"
   },
   "outputs": [],
   "source": [
    "r=10\n",
    "W1 = tf.matmul(tf.matmul(U_1[:, :r], S_1[:r, :r]), V_1T[:r, :])\n",
    "W2 = tf.matmul(tf.matmul(U_2[:, :r], S_2[:r, :r]), V_2T[:r, :])\n",
    "W3 = tf.matmul(tf.matmul(U_3[:, :r], S_3[:r, :r]), V_3T[:r, :])\n",
    "W4 = tf.matmul(tf.matmul(U_4[:, :r], S_4[:r, :r]), V_4T[:r, :])\n",
    "W5 = tf.matmul(tf.matmul(U_5[:, :r], S_5[:r, :r]), V_5T[:r, :])\n",
    "\n",
    "\n",
    "baseline.get_layer(index=1).set_weights([W1,bias1])\n",
    "baseline.get_layer(index=2).set_weights([W2,bias2])\n",
    "baseline.get_layer(index=3).set_weights([W3,bias3])\n",
    "baseline.get_layer(index=4).set_weights([W4,bias4])\n",
    "baseline.get_layer(index=5).set_weights([W5,bias5])"
   ]
  },
  {
   "cell_type": "code",
   "execution_count": null,
   "metadata": {
    "colab": {
     "base_uri": "https://localhost:8080/"
    },
    "id": "TcSxIGacBT9c",
    "outputId": "8556c8eb-80db-40b2-8784-08298be14451"
   },
   "outputs": [
    {
     "name": "stdout",
     "output_type": "stream",
     "text": [
      "313/313 [==============================] - 1s 3ms/step - loss: 1.7336 - sparse_categorical_accuracy: 0.5153\n"
     ]
    }
   ],
   "source": [
    "test_10 = baseline.evaluate(test_images , test_labels)"
   ]
  },
  {
   "cell_type": "code",
   "execution_count": null,
   "metadata": {
    "id": "PJLhwAJGE3gj"
   },
   "outputs": [],
   "source": [
    "accuracies.append(test_10[1])"
   ]
  },
  {
   "cell_type": "markdown",
   "metadata": {
    "id": "Xq1b9gEsErcv"
   },
   "source": [
    "#### For D=20"
   ]
  },
  {
   "cell_type": "code",
   "execution_count": null,
   "metadata": {
    "id": "CB0XeZUVHQ3Q"
   },
   "outputs": [],
   "source": [
    "#baseline = keras.models.load_model(model_path)"
   ]
  },
  {
   "cell_type": "code",
   "execution_count": null,
   "metadata": {
    "id": "80tkQZo3bihq"
   },
   "outputs": [],
   "source": [
    "r=20\n",
    "W1 = tf.matmul(tf.matmul(U_1[:, :r], S_1[:r, :r]), V_1T[:r, :])\n",
    "W2 = tf.matmul(tf.matmul(U_2[:, :r], S_2[:r, :r]), V_2T[:r, :])\n",
    "W3 = tf.matmul(tf.matmul(U_3[:, :r], S_3[:r, :r]), V_3T[:r, :])\n",
    "W4 = tf.matmul(tf.matmul(U_4[:, :r], S_4[:r, :r]), V_4T[:r, :])\n",
    "W5 = tf.matmul(tf.matmul(U_5[:, :r], S_5[:r, :r]), V_5T[:r, :])\n",
    "\n",
    "\n",
    "baseline.get_layer(index=1).set_weights([W1,bias1])\n",
    "baseline.get_layer(index=2).set_weights([W2,bias2])\n",
    "baseline.get_layer(index=3).set_weights([W3,bias3])\n",
    "baseline.get_layer(index=4).set_weights([W4,bias4])\n",
    "baseline.get_layer(index=5).set_weights([W5,bias5])"
   ]
  },
  {
   "cell_type": "code",
   "execution_count": null,
   "metadata": {
    "colab": {
     "base_uri": "https://localhost:8080/"
    },
    "id": "t7vre5I1E1CD",
    "outputId": "ee497467-01fd-40d1-905c-23143350c92a"
   },
   "outputs": [
    {
     "name": "stdout",
     "output_type": "stream",
     "text": [
      "313/313 [==============================] - 1s 4ms/step - loss: 0.3657 - sparse_categorical_accuracy: 0.9116\n"
     ]
    }
   ],
   "source": [
    "test_20 = baseline.evaluate(test_images , test_labels)"
   ]
  },
  {
   "cell_type": "code",
   "execution_count": null,
   "metadata": {
    "id": "dy2GtAyhHYqh"
   },
   "outputs": [],
   "source": [
    "accuracies.append(test_20[1])"
   ]
  },
  {
   "cell_type": "markdown",
   "metadata": {
    "id": "WZ8-xh6uHb5h"
   },
   "source": [
    "#### For D=50"
   ]
  },
  {
   "cell_type": "code",
   "execution_count": null,
   "metadata": {
    "id": "rakeLhL2HeVq"
   },
   "outputs": [],
   "source": [
    "#baseline = keras.models.load_model(model_path)"
   ]
  },
  {
   "cell_type": "code",
   "execution_count": null,
   "metadata": {
    "id": "9TrkEX_Wbnu5"
   },
   "outputs": [],
   "source": [
    "r=50\n",
    "W1 = tf.matmul(tf.matmul(U_1[:, :r], S_1[:r, :r]), V_1T[:r, :])\n",
    "W2 = tf.matmul(tf.matmul(U_2[:, :r], S_2[:r, :r]), V_2T[:r, :])\n",
    "W3 = tf.matmul(tf.matmul(U_3[:, :r], S_3[:r, :r]), V_3T[:r, :])\n",
    "W4 = tf.matmul(tf.matmul(U_4[:, :r], S_4[:r, :r]), V_4T[:r, :])\n",
    "W5 = tf.matmul(tf.matmul(U_5[:, :r], S_5[:r, :r]), V_5T[:r, :])\n",
    "\n",
    "\n",
    "baseline.get_layer(index=1).set_weights([W1,bias1])\n",
    "baseline.get_layer(index=2).set_weights([W2,bias2])\n",
    "baseline.get_layer(index=3).set_weights([W3,bias3])\n",
    "baseline.get_layer(index=4).set_weights([W4,bias4])\n",
    "baseline.get_layer(index=5).set_weights([W5,bias5])"
   ]
  },
  {
   "cell_type": "code",
   "execution_count": null,
   "metadata": {
    "colab": {
     "base_uri": "https://localhost:8080/"
    },
    "id": "jFXF48IOHlJp",
    "outputId": "3f805722-f004-43d3-9c1f-b33af2c54b17"
   },
   "outputs": [
    {
     "name": "stdout",
     "output_type": "stream",
     "text": [
      "313/313 [==============================] - 1s 3ms/step - loss: 0.0870 - sparse_categorical_accuracy: 0.9822\n"
     ]
    }
   ],
   "source": [
    "test_50 = baseline.evaluate(test_images , test_labels)"
   ]
  },
  {
   "cell_type": "code",
   "execution_count": null,
   "metadata": {
    "id": "JvyRdgliHnog"
   },
   "outputs": [],
   "source": [
    "accuracies.append(test_50[1])"
   ]
  },
  {
   "cell_type": "markdown",
   "metadata": {
    "id": "g8gdirrnHtqA"
   },
   "source": [
    "#### For D=100"
   ]
  },
  {
   "cell_type": "code",
   "execution_count": null,
   "metadata": {
    "id": "ibCi3RpKHv7Z"
   },
   "outputs": [],
   "source": [
    "#baseline = keras.models.load_model(model_path)"
   ]
  },
  {
   "cell_type": "code",
   "execution_count": null,
   "metadata": {
    "id": "e39DiSTnb9ve"
   },
   "outputs": [],
   "source": [
    "r=100\n",
    "W1 = tf.matmul(tf.matmul(U_1[:, :r], S_1[:r, :r]), V_1T[:r, :])\n",
    "W2 = tf.matmul(tf.matmul(U_2[:, :r], S_2[:r, :r]), V_2T[:r, :])\n",
    "W3 = tf.matmul(tf.matmul(U_3[:, :r], S_3[:r, :r]), V_3T[:r, :])\n",
    "W4 = tf.matmul(tf.matmul(U_4[:, :r], S_4[:r, :r]), V_4T[:r, :])\n",
    "W5 = tf.matmul(tf.matmul(U_5[:, :r], S_5[:r, :r]), V_5T[:r, :])\n",
    "\n",
    "\n",
    "baseline.get_layer(index=1).set_weights([W1,bias1])\n",
    "baseline.get_layer(index=2).set_weights([W2,bias2])\n",
    "baseline.get_layer(index=3).set_weights([W3,bias3])\n",
    "baseline.get_layer(index=4).set_weights([W4,bias4])\n",
    "baseline.get_layer(index=5).set_weights([W5,bias5])"
   ]
  },
  {
   "cell_type": "code",
   "execution_count": null,
   "metadata": {
    "colab": {
     "base_uri": "https://localhost:8080/"
    },
    "id": "0rkK3e0aHx4p",
    "outputId": "b3c10def-6554-40a7-fee5-0b1efa7de5c7"
   },
   "outputs": [
    {
     "name": "stdout",
     "output_type": "stream",
     "text": [
      "313/313 [==============================] - 1s 3ms/step - loss: 0.0961 - sparse_categorical_accuracy: 0.9848\n"
     ]
    }
   ],
   "source": [
    "test_100 = baseline.evaluate(test_images , test_labels)"
   ]
  },
  {
   "cell_type": "code",
   "execution_count": null,
   "metadata": {
    "id": "kl69UDWrHx8-"
   },
   "outputs": [],
   "source": [
    "accuracies.append(test_100[1])"
   ]
  },
  {
   "cell_type": "markdown",
   "metadata": {
    "id": "qQ3bI8OMH4uY"
   },
   "source": [
    "#### For D=200"
   ]
  },
  {
   "cell_type": "code",
   "execution_count": null,
   "metadata": {
    "id": "gjF4rr7QH8cU"
   },
   "outputs": [],
   "source": [
    "#baseline = keras.models.load_model(model_path)"
   ]
  },
  {
   "cell_type": "code",
   "execution_count": null,
   "metadata": {
    "id": "fXvN1D4tcBv4"
   },
   "outputs": [],
   "source": [
    "r=200\n",
    "W1 = tf.matmul(tf.matmul(U_1[:, :r], S_1[:r, :r]), V_1T[:r, :])\n",
    "W2 = tf.matmul(tf.matmul(U_2[:, :r], S_2[:r, :r]), V_2T[:r, :])\n",
    "W3 = tf.matmul(tf.matmul(U_3[:, :r], S_3[:r, :r]), V_3T[:r, :])\n",
    "W4 = tf.matmul(tf.matmul(U_4[:, :r], S_4[:r, :r]), V_4T[:r, :])\n",
    "W5 = tf.matmul(tf.matmul(U_5[:, :r], S_5[:r, :r]), V_5T[:r, :])\n",
    "\n",
    "\n",
    "baseline.get_layer(index=1).set_weights([W1,bias1])\n",
    "baseline.get_layer(index=2).set_weights([W2,bias2])\n",
    "baseline.get_layer(index=3).set_weights([W3,bias3])\n",
    "baseline.get_layer(index=4).set_weights([W4,bias4])\n",
    "baseline.get_layer(index=5).set_weights([W5,bias5])"
   ]
  },
  {
   "cell_type": "code",
   "execution_count": null,
   "metadata": {
    "colab": {
     "base_uri": "https://localhost:8080/"
    },
    "id": "gpy_JySUH8iE",
    "outputId": "4266f685-7086-494e-8768-934ab33928c9"
   },
   "outputs": [
    {
     "name": "stdout",
     "output_type": "stream",
     "text": [
      "313/313 [==============================] - 1s 3ms/step - loss: 0.1086 - sparse_categorical_accuracy: 0.9850\n"
     ]
    }
   ],
   "source": [
    "test_200 = baseline.evaluate(test_images , test_labels)"
   ]
  },
  {
   "cell_type": "code",
   "execution_count": null,
   "metadata": {
    "id": "A2ghlI33H8ks"
   },
   "outputs": [],
   "source": [
    "accuracies.append(test_200[1])"
   ]
  },
  {
   "cell_type": "markdown",
   "metadata": {
    "id": "knTTaEG2IDQY"
   },
   "source": [
    "#### For D=Full"
   ]
  },
  {
   "cell_type": "code",
   "execution_count": null,
   "metadata": {
    "id": "IQUPz5PJIJ4E"
   },
   "outputs": [],
   "source": [
    "#baseline = keras.models.load_model(model_path)"
   ]
  },
  {
   "cell_type": "code",
   "execution_count": null,
   "metadata": {
    "id": "DIIZEPHkcNtQ"
   },
   "outputs": [],
   "source": [
    "#r=50\n",
    "W1 = tf.matmul(tf.matmul(U_1, S_1), V_1T)\n",
    "W2 = tf.matmul(tf.matmul(U_2, S_2), V_2T)\n",
    "W3 = tf.matmul(tf.matmul(U_3, S_3), V_3T)\n",
    "W4 = tf.matmul(tf.matmul(U_4, S_4), V_4T)\n",
    "W5 = tf.matmul(tf.matmul(U_5, S_5), V_5T)\n",
    "\n",
    "\n",
    "baseline.get_layer(index=1).set_weights([W1,bias1])\n",
    "baseline.get_layer(index=2).set_weights([W2,bias2])\n",
    "baseline.get_layer(index=3).set_weights([W3,bias3])\n",
    "baseline.get_layer(index=4).set_weights([W4,bias4])\n",
    "baseline.get_layer(index=5).set_weights([W5,bias5])"
   ]
  },
  {
   "cell_type": "code",
   "execution_count": null,
   "metadata": {
    "colab": {
     "base_uri": "https://localhost:8080/"
    },
    "id": "7jNvb7rkIi-I",
    "outputId": "33181fc7-6887-4a11-e30b-3f0b2d325f32"
   },
   "outputs": [
    {
     "name": "stdout",
     "output_type": "stream",
     "text": [
      "313/313 [==============================] - 1s 3ms/step - loss: 0.1257 - sparse_categorical_accuracy: 0.9856\n"
     ]
    }
   ],
   "source": [
    "test_full = baseline.evaluate(test_images , test_labels)"
   ]
  },
  {
   "cell_type": "code",
   "execution_count": null,
   "metadata": {
    "id": "1TaAdFSnIlso"
   },
   "outputs": [],
   "source": [
    "accuracies.append(test_full[1])"
   ]
  },
  {
   "cell_type": "markdown",
   "metadata": {
    "id": "M1-hPLa1DqN4"
   },
   "source": [
    "### Comparing the test accuracies for different values of D"
   ]
  },
  {
   "cell_type": "code",
   "execution_count": null,
   "metadata": {
    "colab": {
     "base_uri": "https://localhost:8080/",
     "height": 280
    },
    "id": "e_Ym9Uy_QqHR",
    "outputId": "1c31073e-a849-4f12-83ca-cca44a72dab9"
   },
   "outputs": [
    {
     "data": {
      "image/png": "[encoded data removed]",
      "text/plain": [
       "<Figure size 432x288 with 1 Axes>"
      ]
     },
     "metadata": {
      "needs_background": "light"
     },
     "output_type": "display_data"
    }
   ],
   "source": [
    "fig, ax = plt.subplots()\n",
    "ax.plot(accuracies)\n",
    "ax.set_ylabel(\"Accuracy\")\n",
    "ax.set_xlabel(\"D\")\n",
    "x_axis = [0,10,20,50,100,200,'Full']\n",
    "ax.set_xticklabels(x_axis)\n",
    "plt.show()"
   ]
  },
  {
   "cell_type": "code",
   "execution_count": null,
   "metadata": {
    "colab": {
     "base_uri": "https://localhost:8080/"
    },
    "id": "uQCWad_ieX5T",
    "outputId": "33eb44c8-7e91-4c0b-b98c-c05f7b6e2e91"
   },
   "outputs": [
    {
     "data": {
      "text/plain": [
       "[0.5152999758720398,\n",
       " 0.9115999937057495,\n",
       " 0.982200026512146,\n",
       " 0.9847999811172485,\n",
       " 0.9850000143051147,\n",
       " 0.9855999946594238]"
      ]
     },
     "execution_count": 86,
     "metadata": {},
     "output_type": "execute_result"
    }
   ],
   "source": [
    "accuracies"
   ]
  }
 ],
 "metadata": {
  "colab": {
   "provenance": []
  },
  "gpuClass": "premium",
  "kernelspec": {
   "display_name": "Python 3 (ipykernel)",
   "language": "python",
   "name": "python3"
  },
  "language_info": {
   "codemirror_mode": {
    "name": "ipython",
    "version": 3
   },
   "file_extension": ".py",
   "mimetype": "text/x-python",
   "name": "python",
   "nbconvert_exporter": "python",
   "pygments_lexer": "ipython3",
   "version": "3.9.12"
  }
 },
 "nbformat": 4,
 "nbformat_minor": 1
}
